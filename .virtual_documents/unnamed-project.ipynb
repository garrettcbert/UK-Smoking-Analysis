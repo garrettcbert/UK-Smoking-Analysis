import kagglehub

# Download latest version
path = kagglehub.dataset_download("hanaksoy/reading-habits-and-mood-impact-dataset")

print("Path to dataset files:", path)



