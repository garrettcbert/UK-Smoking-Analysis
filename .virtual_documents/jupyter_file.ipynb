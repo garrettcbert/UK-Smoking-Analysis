import pandas as pd
from pandasql import sqldf


reading_df = pd.read_csv("sleep and psychological effects.csv")

reading_df

conn = sqlite3.connect(reading_df)

def query(query, conn = conn):
    return pd.read_sql(query, conn)

query("select * from reading_df")



